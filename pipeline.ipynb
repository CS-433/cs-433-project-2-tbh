{
 "cells": [
  {
   "cell_type": "code",
   "execution_count": 1,
   "metadata": {
    "ExecuteTime": {
     "end_time": "2020-12-17T11:02:34.070263Z",
     "start_time": "2020-12-17T11:02:26.159891Z"
    },
    "id": "PzRKgXa8Fwc0"
   },
   "outputs": [],
   "source": [
    "# Global imports\n",
    "import os\n",
    "import importlib\n",
    "import tensorflow as tf\n",
    "from datetime import datetime\n",
    "\n",
    "%load_ext autoreload\n",
    "%autoreload 2"
   ]
  },
  {
   "cell_type": "code",
   "execution_count": 2,
   "metadata": {
    "ExecuteTime": {
     "end_time": "2020-12-17T11:02:34.181927Z",
     "start_time": "2020-12-17T11:02:34.074287Z"
    },
    "colab": {
     "base_uri": "https://localhost:8080/"
    },
    "id": "FBdjGm_UPHP1",
    "outputId": "b6659e33-ec54-44f4-d404-d7c36f90d251"
   },
   "outputs": [],
   "source": [
    "# The Colab cell. If True, will set up the file system and git\n",
    "COLAB = False\n",
    "BRANCH = 'main'\n",
    "USERNAME = 'ben'\n",
    "if COLAB:\n",
    "    from google.colab import drive\n",
    "    drive.mount('/content/drive')\n",
    "    drive_path = '/content/drive/Shareddrives/ML_Road_Segmentation/CS-433-project-{}/project_road_segmentation'.format(USERNAME)\n",
    "    os.chdir(drive_path)\n",
    "    from helpers.colab import pull\n",
    "    BRANCH_NAME = BRANCH\n",
    "    mount_and_pull(BRANCH_NAME, drive, os)"
   ]
  },
  {
   "cell_type": "code",
   "execution_count": 3,
   "metadata": {
    "ExecuteTime": {
     "end_time": "2020-12-17T11:02:36.167746Z",
     "start_time": "2020-12-17T11:02:34.205001Z"
    },
    "id": "uMaqi7NPFwc1",
    "scrolled": false
   },
   "outputs": [],
   "source": [
    "# Scripts imports\n",
    "# from helpers.x import y\n",
    "from helpers.constants import *\n",
    "from helpers.machine_learning import get_train_test, compute_entire_images_metrics\n",
    "from helpers.loss_functions import dice_coefficient, create_loss_function\n",
    "from helpers.prediction_checking import visualize_random_predictions\n",
    "from helpers.submission import predict_submissions"
   ]
  },
  {
   "cell_type": "code",
   "execution_count": null,
   "metadata": {
    "ExecuteTime": {
     "start_time": "2020-12-17T11:11:12.990Z"
    }
   },
   "outputs": [],
   "source": [
    "# Utilitary constants\n",
    "RESTORE_MODEL = True  # Restore existing model instead of training a new one\n",
    "SAVE_MODEL = False  # Save the model as a zip file (only works on AICrowd)\n",
    "GENERATE_PREDICTION = True  # Generate a CSV to submit on AICrowd\n",
    "\n",
    "MODEL_NAME = 'cnn_patch_prediction'  # cnn_patch_prediction or unet\n",
    "PATCH_PREDICTION = MODEL_NAME == 'cnn_patch_prediction' # Only for the non-unet model, which predicts patches\n",
    "SAVE_DIR = MODELS_SAVE_DIR + MODEL_NAME + '/'  # Directory in which to save the model\n",
    "RELOAD_DIR = MODELS_SAVE_DIR + 'final_model/'  # Directory from which to reload the model\n",
    "\n",
    "# Model constants\n",
    "NUM_EPOCHS = 1\n",
    "ALPHA = 0.6\n",
    "GAMMA = 0.75\n",
    "DATA_AUGMENTATION = True\n",
    "TRANSFORMATIONS = ['mix', 'rotations']\n",
    "\n",
    "# Importing the model\n",
    "mod = importlib.import_module('models.' + MODEL_NAME)\n",
    "model_function = getattr(mod, MODEL_NAME)"
   ]
  },
  {
   "cell_type": "code",
   "execution_count": 5,
   "metadata": {
    "ExecuteTime": {
     "end_time": "2020-12-17T11:02:46.294803Z",
     "start_time": "2020-12-17T11:02:36.250853Z"
    },
    "colab": {
     "base_uri": "https://localhost:8080/"
    },
    "id": "WyMhDusfFwc3",
    "outputId": "f65702a4-b2f3-4b7e-d52f-5dcf3a0b770b",
    "scrolled": false
   },
   "outputs": [
    {
     "name": "stderr",
     "output_type": "stream",
     "text": [
      "Loading data/train/original/images/: 100%|██████████| 100/100 [00:02<00:00, 42.45it/s]\n",
      "Loading data/train/original/groundtruth/: 100%|██████████| 100/100 [00:00<00:00, 113.13it/s]\n",
      "Loading data/train/generated/mix/images/: 100%|██████████| 100/100 [00:02<00:00, 40.11it/s]\n",
      "Loading data/train/generated/mix/groundtruth/: 100%|██████████| 100/100 [00:00<00:00, 128.13it/s]\n"
     ]
    },
    {
     "name": "stdout",
     "output_type": "stream",
     "text": [
      "Training features shape :  (200, 400, 400, 3)\n",
      "Training labels shape :  (200, 400, 400)\n"
     ]
    }
   ],
   "source": [
    "# Loading the data\n",
    "X_train, y_train, X_test, y_test = get_train_test(data_augmentation=DATA_AUGMENTATION, \n",
    "                                                  transformations=TRANSFORMATIONS)\n",
    "\n",
    "if PATCH_PREDICTION:\n",
    "    from helpers.patch_labeling import *\n",
    "    y_train = groundtruth_to_labeled_patches(y_train)\n",
    "    y_test = groundtruth_to_labeled_patches(y_test)"
   ]
  },
  {
   "cell_type": "code",
   "execution_count": null,
   "metadata": {
    "ExecuteTime": {
     "start_time": "2020-12-17T11:07:03.289Z"
    },
    "id": "cBE8XdxDFwc4"
   },
   "outputs": [],
   "source": [
    "# Reloading or training a new model\n",
    "loss_function = create_loss_function(ALPHA, GAMMA)\n",
    "\n",
    "if RESTORE_MODEL:\n",
    "    model = tf.keras.models.load_model(RELOAD_DIR, custom_objects={'focal_tversky_loss': loss_function, 'dice_coef': dice_coefficient})\n",
    "else:  \n",
    "    metrics=[tf.keras.metrics.Precision(),\n",
    "             tf.keras.metrics.Recall(),\n",
    "             dice_coefficient]\n",
    "    callbacks = [tf.keras.callbacks.EarlyStopping(monitor='val_loss', patience=10, verbose=1),\n",
    "                 tf.keras.callbacks.ReduceLROnPlateau(monitor='val_loss', factor=0.5)]\n",
    "    model = model_function()\n",
    "    model.compile(optimizer='adam',\n",
    "                  loss=loss_function,\n",
    "                  metrics=metrics)\n",
    "    history = model.fit(X_train, \n",
    "                        y_train, \n",
    "                        epochs=NUM_EPOCHS,\n",
    "                        validation_split=0.2,\n",
    "                        callbacks=callbacks)"
   ]
  },
  {
   "cell_type": "code",
   "execution_count": 8,
   "metadata": {
    "colab": {
     "base_uri": "https://localhost:8080/"
    },
    "id": "fon8F-kTFwc5",
    "outputId": "85782f7b-4254-4fa3-8222-af7a391abd68"
   },
   "outputs": [],
   "source": [
    "# Saving the trained model\n",
    "if SAVE_MODEL:\n",
    "    now = datetime.now().strftime(\"%m-%d-%Y_%H-%M-%S\") + '/'\n",
    "    model.save(SAVE_DIR + now)"
   ]
  },
  {
   "cell_type": "code",
   "execution_count": null,
   "metadata": {},
   "outputs": [],
   "source": [
    "# Predicting on train and test and computing performance\n",
    "train_predictions = model.predict(X_train).squeeze()\n",
    "test_predictions = model.predict(X_test).squeeze()\n",
    "metrics = compute_entire_images_metrics(y_test, test_predictions)\n",
    "\n",
    "if PATCH_PREDICTION:\n",
    "    train_predictions = resize_images(train_predictions, TRAINING_IMG_SIZE)\n",
    "    test_predictions = resize_images(test_predictions, TRAINING_IMG_SIZE)\n",
    "    \n",
    "metrics"
   ]
  },
  {
   "cell_type": "code",
   "execution_count": null,
   "metadata": {},
   "outputs": [],
   "source": [
    "visualize_random_predictions(X_train, y_train, train_predictions, size=10)"
   ]
  },
  {
   "cell_type": "code",
   "execution_count": null,
   "metadata": {},
   "outputs": [],
   "source": [
    "visualize_random_predictions(X_test, y_test, test_predictions, size=10)"
   ]
  },
  {
   "cell_type": "code",
   "execution_count": null,
   "metadata": {},
   "outputs": [],
   "source": [
    "#Create the submission file and save the predicted masks of the test set\n",
    "predict_submissions(model, patches_predicted=PATCH_PREDICTION)"
   ]
  },
  {
   "cell_type": "code",
   "execution_count": 12,
   "metadata": {},
   "outputs": [],
   "source": [
    "#Create a zip file containing the model to download it\n",
    "if COLAB:\n",
    "    from helpers.colab import download_model\n",
    "    from google.colab import files\n",
    "    download_model(MODEL_NAME, SAVE_DIR, files)"
   ]
  }
 ],
 "metadata": {
  "accelerator": "GPU",
  "colab": {
   "name": "U-net.ipynb",
   "provenance": []
  },
  "kernelspec": {
   "display_name": "venv",
   "language": "python",
   "name": "venv"
  },
  "language_info": {
   "codemirror_mode": {
    "name": "ipython",
    "version": 3
   },
   "file_extension": ".py",
   "mimetype": "text/x-python",
   "name": "python",
   "nbconvert_exporter": "python",
   "pygments_lexer": "ipython3",
   "version": "3.7.1"
  },
  "toc": {
   "base_numbering": 1,
   "nav_menu": {},
   "number_sections": true,
   "sideBar": true,
   "skip_h1_title": false,
   "title_cell": "Table of Contents",
   "title_sidebar": "Contents",
   "toc_cell": false,
   "toc_position": {},
   "toc_section_display": true,
   "toc_window_display": false
  }
 },
 "nbformat": 4,
 "nbformat_minor": 4
}
